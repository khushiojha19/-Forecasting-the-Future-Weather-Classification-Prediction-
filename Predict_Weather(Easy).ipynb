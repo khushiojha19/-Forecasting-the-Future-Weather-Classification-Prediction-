{
  "nbformat": 4,
  "nbformat_minor": 0,
  "metadata": {
    "colab": {
      "provenance": []
    },
    "kernelspec": {
      "name": "python3",
      "display_name": "Python 3"
    },
    "language_info": {
      "name": "python"
    }
  },
  "cells": [
    {
      "cell_type": "markdown",
      "source": [
        "**Import the Libraries**\n"
      ],
      "metadata": {
        "id": "8YUyA_cTnUMj"
      }
    },
    {
      "cell_type": "code",
      "execution_count": 52,
      "metadata": {
        "id": "neSNEHbEmO00"
      },
      "outputs": [],
      "source": [
        "import pandas as pd\n",
        "\n",
        "import matplotlib.pyplot as plt\n",
        "\n",
        "import seaborn as sns\n",
        "\n"
      ]
    },
    {
      "cell_type": "markdown",
      "source": [
        "**Load the Dataset**"
      ],
      "metadata": {
        "id": "8NPS98YPnLHs"
      }
    },
    {
      "cell_type": "code",
      "source": [
        "x = \"weather_data.csv\"\n",
        "\n",
        "df = pd.read_csv(x)\n",
        "\n"
      ],
      "metadata": {
        "id": "ThivJj46nN_3"
      },
      "execution_count": null,
      "outputs": []
    },
    {
      "cell_type": "markdown",
      "source": [
        "**Inspect the Dataset**"
      ],
      "metadata": {
        "id": "OYVM4guBm9Nq"
      }
    },
    {
      "cell_type": "code",
      "source": [
        "# Display the first five rows of the Dataset\n",
        "\n",
        "print(df.head())\n",
        "\n"
      ],
      "metadata": {
        "colab": {
          "base_uri": "https://localhost:8080/"
        },
        "id": "0hgiv3tHnIi9",
        "outputId": "2d4daf22-2a1b-48f4-8405-693e6d9d162f"
      },
      "execution_count": null,
      "outputs": [
        {
          "output_type": "stream",
          "name": "stdout",
          "text": [
            "   ghi  dhi  precip        timestamp_utc  temp  app_temp  dni  snow_depth  \\\n",
            "0    0    0     0.0  2025-01-15T12:00:00  25.9      18.7    0           0   \n",
            "1  385   87     0.0  2025-01-15T15:00:00  29.3      22.8  748           0   \n",
            "2  542  101     0.0  2025-01-15T18:00:00  36.5      32.0  831           0   \n",
            "3  193   65     0.0  2025-01-15T21:00:00  38.3      35.6  581           0   \n",
            "4    0    0     0.0  2025-01-16T00:00:00  29.3      27.5    0           0   \n",
            "\n",
            "  wind_cdir  rh  ... clouds_mid  wind_dir  snow  clouds_low  solar_rad  \\\n",
            "0       NNW  51  ...          0       350     0           0    0.00000   \n",
            "1       NNW  41  ...          0       360     0           0  384.62994   \n",
            "2       NNW  30  ...          0       340     0           0  542.37920   \n",
            "3        NW  28  ...          0       310     0           0  192.98000   \n",
            "4         W  46  ...          0       280     0           0    0.00000   \n",
            "\n",
            "   wind_gust_spd      timestamp_local description(output)  code  icon  \n",
            "0           11.9  2025-01-15T07:00:00          Few clouds   801  c02n  \n",
            "1           11.9  2025-01-15T10:00:00           Clear Sky   800  c01d  \n",
            "2            9.6  2025-01-15T13:00:00          Few clouds   801  c02d  \n",
            "3            6.9  2025-01-15T16:00:00           Clear Sky   800  c01d  \n",
            "4            2.0  2025-01-15T19:00:00          Few clouds   801  c02n  \n",
            "\n",
            "[5 rows x 34 columns]\n"
          ]
        }
      ]
    },
    {
      "cell_type": "code",
      "source": [
        "# Check the data types of each column\n",
        "\n",
        "print(df.info())\n",
        "\n"
      ],
      "metadata": {
        "colab": {
          "base_uri": "https://localhost:8080/"
        },
        "id": "tPUijg0UnwW_",
        "outputId": "fd748400-c3dc-4bd6-aab1-c4f3c8acc6f2"
      },
      "execution_count": null,
      "outputs": [
        {
          "output_type": "stream",
          "name": "stdout",
          "text": [
            "<class 'pandas.core.frame.DataFrame'>\n",
            "RangeIndex: 40 entries, 0 to 39\n",
            "Data columns (total 34 columns):\n",
            " #   Column               Non-Null Count  Dtype  \n",
            "---  ------               --------------  -----  \n",
            " 0   ghi                  40 non-null     int64  \n",
            " 1   dhi                  40 non-null     int64  \n",
            " 2   precip               40 non-null     float64\n",
            " 3   timestamp_utc        40 non-null     object \n",
            " 4   temp                 40 non-null     float64\n",
            " 5   app_temp             40 non-null     float64\n",
            " 6   dni                  40 non-null     int64  \n",
            " 7   snow_depth           40 non-null     int64  \n",
            " 8   wind_cdir            40 non-null     object \n",
            " 9   rh                   40 non-null     int64  \n",
            " 10  pod                  40 non-null     object \n",
            " 11  pop                  40 non-null     int64  \n",
            " 12  ozone                40 non-null     int64  \n",
            " 13  clouds_hi            40 non-null     int64  \n",
            " 14  clouds               40 non-null     int64  \n",
            " 15  vis                  40 non-null     float64\n",
            " 16  wind_spd             40 non-null     float64\n",
            " 17  wind_cdir_full       40 non-null     object \n",
            " 18  slp                  40 non-null     int64  \n",
            " 19  datetime             40 non-null     object \n",
            " 20  ts                   40 non-null     int64  \n",
            " 21  pres                 40 non-null     int64  \n",
            " 22  dewpt                40 non-null     float64\n",
            " 23  uv                   40 non-null     int64  \n",
            " 24  clouds_mid           40 non-null     int64  \n",
            " 25  wind_dir             40 non-null     int64  \n",
            " 26  snow                 40 non-null     int64  \n",
            " 27  clouds_low           40 non-null     int64  \n",
            " 28  solar_rad            40 non-null     float64\n",
            " 29  wind_gust_spd        40 non-null     float64\n",
            " 30  timestamp_local      40 non-null     object \n",
            " 31  description(output)  40 non-null     object \n",
            " 32  code                 40 non-null     int64  \n",
            " 33  icon                 40 non-null     object \n",
            "dtypes: float64(8), int64(18), object(8)\n",
            "memory usage: 10.8+ KB\n",
            "None\n"
          ]
        }
      ]
    },
    {
      "cell_type": "code",
      "source": [
        "# Convert Date into a proper datetime format\n",
        "\n",
        "df['timestamp_utc'] = pd.to_datetime(df['timestamp_utc'], format ='%Y-%m-%dT%H:%M:%S')\n",
        "\n",
        "df['timestamp_local'] = pd.to_datetime(df['timestamp_local'], format ='%Y-%m-%dT%H:%M:%S')\n",
        "\n",
        "df['datetime'] = pd.to_datetime(df['datetime'], format = '%Y-%m-%d:%H')\n",
        "\n"
      ],
      "metadata": {
        "id": "zSafkGMtppIF"
      },
      "execution_count": null,
      "outputs": []
    },
    {
      "cell_type": "markdown",
      "source": [
        "**Feature Engineering**"
      ],
      "metadata": {
        "id": "h7HV0rPPrmEB"
      }
    },
    {
      "cell_type": "code",
      "source": [
        "# Extract the Year, Month and Data and create new columns\n",
        "\n",
        "df['Year'] = df['datetime'].dt.year\n",
        "\n",
        "df['Month'] = df['datetime'].dt.month\n",
        "\n",
        "df['Day'] = df['datetime'].dt.day\n",
        "\n"
      ],
      "metadata": {
        "id": "6R8Q4gUSrrFN"
      },
      "execution_count": null,
      "outputs": []
    },
    {
      "cell_type": "code",
      "source": [
        "# Check the new columns\n",
        "\n",
        "print(df['Year'].head(3))\n",
        "\n",
        "print(df['Month'].head(3))\n",
        "\n",
        "print(df['Day'].head(3))\n",
        "\n"
      ],
      "metadata": {
        "colab": {
          "base_uri": "https://localhost:8080/"
        },
        "id": "ePESseXXsSN_",
        "outputId": "398c9c28-d78c-4dde-95da-cdc76c9d61f5"
      },
      "execution_count": null,
      "outputs": [
        {
          "output_type": "stream",
          "name": "stdout",
          "text": [
            "0    2025\n",
            "1    2025\n",
            "2    2025\n",
            "Name: Year, dtype: int32\n",
            "0    1\n",
            "1    1\n",
            "2    1\n",
            "Name: Month, dtype: int32\n",
            "0    15\n",
            "1    15\n",
            "2    15\n",
            "Name: Day, dtype: int32\n"
          ]
        }
      ]
    },
    {
      "cell_type": "markdown",
      "source": [
        "**Handling Null Values**"
      ],
      "metadata": {
        "id": "mxFhnijfsnpp"
      }
    },
    {
      "cell_type": "code",
      "source": [
        "# Checking the null values in the Dataset\n",
        "\n",
        "print(df.isnull().sum())\n",
        "\n"
      ],
      "metadata": {
        "colab": {
          "base_uri": "https://localhost:8080/"
        },
        "id": "0sv9Iv84sqaP",
        "outputId": "ebb7074e-6227-4d23-ba83-1cde62c4ab3d"
      },
      "execution_count": null,
      "outputs": [
        {
          "output_type": "stream",
          "name": "stdout",
          "text": [
            "ghi                    0\n",
            "dhi                    0\n",
            "precip                 0\n",
            "timestamp_utc          0\n",
            "temp                   0\n",
            "app_temp               0\n",
            "dni                    0\n",
            "snow_depth             0\n",
            "wind_cdir              0\n",
            "rh                     0\n",
            "pod                    0\n",
            "pop                    0\n",
            "ozone                  0\n",
            "clouds_hi              0\n",
            "clouds                 0\n",
            "vis                    0\n",
            "wind_spd               0\n",
            "wind_cdir_full         0\n",
            "slp                    0\n",
            "datetime               0\n",
            "ts                     0\n",
            "pres                   0\n",
            "dewpt                  0\n",
            "uv                     0\n",
            "clouds_mid             0\n",
            "wind_dir               0\n",
            "snow                   0\n",
            "clouds_low             0\n",
            "solar_rad              0\n",
            "wind_gust_spd          0\n",
            "timestamp_local        0\n",
            "description(output)    0\n",
            "code                   0\n",
            "icon                   0\n",
            "Year                   0\n",
            "Month                  0\n",
            "Day                    0\n",
            "dtype: int64\n"
          ]
        }
      ]
    },
    {
      "cell_type": "markdown",
      "source": [
        "**Calculate basic statistics (mean, median, mode) for  Temperature, Humidity and Wind Speed**\n"
      ],
      "metadata": {
        "id": "kqIYwwWhtNA1"
      }
    },
    {
      "cell_type": "code",
      "source": [
        "print(df[['temp', 'rh', 'wind_spd']].agg(['mean', 'median', lambda x: x.mode()[0]]))\n",
        "\n"
      ],
      "metadata": {
        "colab": {
          "base_uri": "https://localhost:8080/"
        },
        "id": "1dIYFWLUtP3l",
        "outputId": "188ae050-0ef2-49ee-a3c6-968468002db1"
      },
      "execution_count": null,
      "outputs": [
        {
          "output_type": "stream",
          "name": "stdout",
          "text": [
            "          temp     rh  wind_spd\n",
            "mean      37.2   69.8     3.795\n",
            "median    37.6   75.5     3.600\n",
            "<lambda>  29.3  100.0     3.600\n"
          ]
        }
      ]
    },
    {
      "cell_type": "markdown",
      "source": [
        "**Day with the Highest Temperature Recorded**"
      ],
      "metadata": {
        "id": "ldDBSVC2xfkX"
      }
    },
    {
      "cell_type": "code",
      "source": [
        "# Find the maximum temperature\n",
        "\n",
        "max_temp = df['temp'].max()\n",
        "\n",
        "print(max_temp)\n",
        "\n"
      ],
      "metadata": {
        "colab": {
          "base_uri": "https://localhost:8080/"
        },
        "id": "y_7keR0gyH3x",
        "outputId": "ce901e4b-67a7-413e-df37-c3924aaead8a"
      },
      "execution_count": null,
      "outputs": [
        {
          "output_type": "stream",
          "name": "stdout",
          "text": [
            "50.2\n"
          ]
        }
      ]
    },
    {
      "cell_type": "code",
      "source": [
        "# Find the day with the maximum temperature\n",
        "\n",
        "maxtemp_day = df[df['temp'] == max_temp]['Day'].iloc[0]\n",
        "\n",
        "print(maxtemp_day)\n",
        "\n"
      ],
      "metadata": {
        "colab": {
          "base_uri": "https://localhost:8080/"
        },
        "id": "JBjpRKGvyVrP",
        "outputId": "95b4e687-cd6c-40e2-c8bf-ee9751a7da65"
      },
      "execution_count": null,
      "outputs": [
        {
          "output_type": "stream",
          "name": "stdout",
          "text": [
            "19\n"
          ]
        }
      ]
    },
    {
      "cell_type": "markdown",
      "source": [
        "**Identify the most frequent Weather Condition in the dataset**"
      ],
      "metadata": {
        "id": "zAesfu8b0quv"
      }
    },
    {
      "cell_type": "code",
      "source": [
        "# Get the most frequent weather condition\n",
        "\n",
        "most_frq_weather = df['description(output)'].mode()[0]\n",
        "\n",
        "print(\"Most frequent weather condition: \", most_frq_weather)\n",
        "\n"
      ],
      "metadata": {
        "colab": {
          "base_uri": "https://localhost:8080/"
        },
        "id": "lubYBIba0sf5",
        "outputId": "3871cb3e-3890-47b6-d560-425f69ed6b11"
      },
      "execution_count": null,
      "outputs": [
        {
          "output_type": "stream",
          "name": "stdout",
          "text": [
            "Most frequent weather condition:  Few clouds\n"
          ]
        }
      ]
    },
    {
      "cell_type": "code",
      "source": [
        "# Get the count of most frequent weather condition\n",
        "\n",
        "count = df['description(output)'].value_counts()[most_frq_weather]\n",
        "\n",
        "print(\"Count: \", count)\n",
        "\n"
      ],
      "metadata": {
        "colab": {
          "base_uri": "https://localhost:8080/"
        },
        "id": "XHqMdhIp28iy",
        "outputId": "09b76aa0-2e44-42eb-f503-488d59d101f8"
      },
      "execution_count": null,
      "outputs": [
        {
          "output_type": "stream",
          "name": "stdout",
          "text": [
            "Count:  18\n"
          ]
        }
      ]
    },
    {
      "cell_type": "markdown",
      "source": [
        "**Count the number of Clear Sky and Drizzle days**"
      ],
      "metadata": {
        "id": "krfaXCGr2JVy"
      }
    },
    {
      "cell_type": "code",
      "source": [
        "# Count of 'Clear Sky' Days\n",
        "\n",
        "count_sunny = df['description(output)'].value_counts()['Clear Sky']\n",
        "\n",
        "print(f\"Count of 'Clear Sky' days: {count_sunny}\")\n",
        "\n"
      ],
      "metadata": {
        "colab": {
          "base_uri": "https://localhost:8080/"
        },
        "id": "A51F2i022KSI",
        "outputId": "740f3063-c92e-4e71-fa38-c9118caf558f"
      },
      "execution_count": null,
      "outputs": [
        {
          "output_type": "stream",
          "name": "stdout",
          "text": [
            "Count of 'Clear Sky' days: 3\n"
          ]
        }
      ]
    },
    {
      "cell_type": "code",
      "source": [
        "# Count of 'Drizzle' Days\n",
        "\n",
        "count_drizzle = df['description(output)'].value_counts()['Drizzle']\n",
        "\n",
        "print(f\"Count of 'Drizzle' Days: {count_drizzle}\")\n",
        "\n"
      ],
      "metadata": {
        "colab": {
          "base_uri": "https://localhost:8080/"
        },
        "id": "fJ_lHRcV3AUS",
        "outputId": "5e20c262-f50a-4b33-a436-27d3ed043f74"
      },
      "execution_count": null,
      "outputs": [
        {
          "output_type": "stream",
          "name": "stdout",
          "text": [
            "Count of 'Drizzle' Days: 2\n"
          ]
        }
      ]
    },
    {
      "cell_type": "markdown",
      "source": [
        "**Average wind speed on 'Light shower rain' day**"
      ],
      "metadata": {
        "id": "5yhawvvT3bLI"
      }
    },
    {
      "cell_type": "code",
      "source": [
        "# Filter out the Light Shower Rain days\n",
        "\n",
        "rain_day = df[df['description(output)'] == 'Light shower rain']\n",
        "\n"
      ],
      "metadata": {
        "id": "d-V6csHB3g3d"
      },
      "execution_count": null,
      "outputs": []
    },
    {
      "cell_type": "code",
      "source": [
        "# Calculate average wind speed on rainy day\n",
        "\n",
        "avg_speed = rain_day['wind_spd'].mean()\n",
        "\n",
        "print(f\"Average wind speed on 'Light shower rain' day is: {avg_speed}\")\n",
        "\n"
      ],
      "metadata": {
        "colab": {
          "base_uri": "https://localhost:8080/"
        },
        "id": "wiiTL9Zo4q7W",
        "outputId": "59ac4bbb-8410-472e-f694-6c29860c4fae"
      },
      "execution_count": null,
      "outputs": [
        {
          "output_type": "stream",
          "name": "stdout",
          "text": [
            "Average wind speed on 'Light shower rain' day is: 1.8\n"
          ]
        }
      ]
    },
    {
      "cell_type": "markdown",
      "source": [
        "**Filter out records where the temperature was below 30°C**"
      ],
      "metadata": {
        "id": "gVKD-8v9610h"
      }
    },
    {
      "cell_type": "code",
      "source": [
        "# Filter records where temperature is below 20°C\n",
        "\n",
        "temp_below_20 = df[df['temp'] < 30]\n",
        "\n",
        "\n",
        "# Get the count of records\n",
        "\n",
        "count = temp_below_20['temp'].count()\n",
        "\n",
        "\n",
        "print(f\"Records where the temperature was below 30°C is {count}\")\n",
        "\n"
      ],
      "metadata": {
        "colab": {
          "base_uri": "https://localhost:8080/"
        },
        "id": "LtQ4L9lB6-o1",
        "outputId": "8bab78f4-fef3-4c72-c36a-f9b32dc0812e"
      },
      "execution_count": null,
      "outputs": [
        {
          "output_type": "stream",
          "name": "stdout",
          "text": [
            "Records where the temperature was below 30°C is 9\n"
          ]
        }
      ]
    },
    {
      "cell_type": "markdown",
      "source": [
        "**Plot a histogram of Temperature**"
      ],
      "metadata": {
        "id": "EkPjIfpk9WpG"
      }
    },
    {
      "cell_type": "code",
      "source": [
        "plt.hist(df['temp'], bins = 20, color = 'skyblue', edgecolor = 'black')\n",
        "\n",
        "plt.xlabel('Tempearute (°C)')\n",
        "\n",
        "plt.ylabel('Frequency')\n",
        "\n",
        "plt.title('Histogram of Temperature')\n",
        "\n",
        "plt.show\n",
        "\n"
      ],
      "metadata": {
        "colab": {
          "base_uri": "https://localhost:8080/",
          "height": 641
        },
        "id": "El4OdDaB-LhY",
        "outputId": "8f59c69e-778c-48c1-c63d-a60783495044"
      },
      "execution_count": 53,
      "outputs": [
        {
          "output_type": "execute_result",
          "data": {
            "text/plain": [
              "<function matplotlib.pyplot.show(close=None, block=None)>"
            ],
            "text/html": [
              "<div style=\"max-width:800px; border: 1px solid var(--colab-border-color);\"><style>\n",
              "      pre.function-repr-contents {\n",
              "        overflow-x: auto;\n",
              "        padding: 8px 12px;\n",
              "        max-height: 500px;\n",
              "      }\n",
              "\n",
              "      pre.function-repr-contents.function-repr-contents-collapsed {\n",
              "        cursor: pointer;\n",
              "        max-height: 100px;\n",
              "      }\n",
              "    </style>\n",
              "    <pre style=\"white-space: initial; background:\n",
              "         var(--colab-secondary-surface-color); padding: 8px 12px;\n",
              "         border-bottom: 1px solid var(--colab-border-color);\"><b>matplotlib.pyplot.show</b><br/>def show(*args, **kwargs) -&gt; None</pre><pre class=\"function-repr-contents function-repr-contents-collapsed\" style=\"\"><a class=\"filepath\" style=\"display:none\" href=\"#\">/usr/local/lib/python3.11/dist-packages/matplotlib/pyplot.py</a>Display all open figures.\n",
              "\n",
              "Parameters\n",
              "----------\n",
              "block : bool, optional\n",
              "    Whether to wait for all figures to be closed before returning.\n",
              "\n",
              "    If `True` block and run the GUI main loop until all figure windows\n",
              "    are closed.\n",
              "\n",
              "    If `False` ensure that all figure windows are displayed and return\n",
              "    immediately.  In this case, you are responsible for ensuring\n",
              "    that the event loop is running to have responsive figures.\n",
              "\n",
              "    Defaults to True in non-interactive mode and to False in interactive\n",
              "    mode (see `.pyplot.isinteractive`).\n",
              "\n",
              "See Also\n",
              "--------\n",
              "ion : Enable interactive mode, which shows / updates the figure after\n",
              "      every plotting command, so that calling ``show()`` is not necessary.\n",
              "ioff : Disable interactive mode.\n",
              "savefig : Save the figure to an image file instead of showing it on screen.\n",
              "\n",
              "Notes\n",
              "-----\n",
              "**Saving figures to file and showing a window at the same time**\n",
              "\n",
              "If you want an image file as well as a user interface window, use\n",
              "`.pyplot.savefig` before `.pyplot.show`. At the end of (a blocking)\n",
              "``show()`` the figure is closed and thus unregistered from pyplot. Calling\n",
              "`.pyplot.savefig` afterwards would save a new and thus empty figure. This\n",
              "limitation of command order does not apply if the show is non-blocking or\n",
              "if you keep a reference to the figure and use `.Figure.savefig`.\n",
              "\n",
              "**Auto-show in jupyter notebooks**\n",
              "\n",
              "The jupyter backends (activated via ``%matplotlib inline``,\n",
              "``%matplotlib notebook``, or ``%matplotlib widget``), call ``show()`` at\n",
              "the end of every cell by default. Thus, you usually don&#x27;t have to call it\n",
              "explicitly there.</pre>\n",
              "      <script>\n",
              "      if (google.colab.kernel.accessAllowed && google.colab.files && google.colab.files.view) {\n",
              "        for (const element of document.querySelectorAll('.filepath')) {\n",
              "          element.style.display = 'block'\n",
              "          element.onclick = (event) => {\n",
              "            event.preventDefault();\n",
              "            event.stopPropagation();\n",
              "            google.colab.files.view(element.textContent, 569);\n",
              "          };\n",
              "        }\n",
              "      }\n",
              "      for (const element of document.querySelectorAll('.function-repr-contents')) {\n",
              "        element.onclick = (event) => {\n",
              "          event.preventDefault();\n",
              "          event.stopPropagation();\n",
              "          element.classList.toggle('function-repr-contents-collapsed');\n",
              "        };\n",
              "      }\n",
              "      </script>\n",
              "      </div>"
            ]
          },
          "metadata": {},
          "execution_count": 53
        },
        {
          "output_type": "display_data",
          "data": {
            "text/plain": [
              "<Figure size 640x480 with 1 Axes>"
            ],
            "image/png": "[encoded data removed]"
          },
          "metadata": {}
        }
      ]
    },
    {
      "cell_type": "markdown",
      "source": [
        "**Create a Scatter Plot of Temperature vs. Humidity**"
      ],
      "metadata": {
        "id": "YWMYJvOc-9N0"
      }
    },
    {
      "cell_type": "code",
      "source": [
        "sns.scatterplot(x = 'temp', y = 'rh', data = df, color = 'orange')\n",
        "\n",
        "plt.xlabel('Tempearute (°C)')\n",
        "\n",
        "plt.ylabel('Humidity (%)')\n",
        "\n",
        "plt.title('Temperature v/s Humidity')\n",
        "\n",
        "plt.show\n",
        "\n"
      ],
      "metadata": {
        "colab": {
          "base_uri": "https://localhost:8080/",
          "height": 641
        },
        "id": "OCW0MK5b_ALh",
        "outputId": "08ada588-2a95-4cd3-ec8a-0096c7ecbb37"
      },
      "execution_count": 55,
      "outputs": [
        {
          "output_type": "execute_result",
          "data": {
            "text/plain": [
              "<function matplotlib.pyplot.show(close=None, block=None)>"
            ],
            "text/html": [
              "<div style=\"max-width:800px; border: 1px solid var(--colab-border-color);\"><style>\n",
              "      pre.function-repr-contents {\n",
              "        overflow-x: auto;\n",
              "        padding: 8px 12px;\n",
              "        max-height: 500px;\n",
              "      }\n",
              "\n",
              "      pre.function-repr-contents.function-repr-contents-collapsed {\n",
              "        cursor: pointer;\n",
              "        max-height: 100px;\n",
              "      }\n",
              "    </style>\n",
              "    <pre style=\"white-space: initial; background:\n",
              "         var(--colab-secondary-surface-color); padding: 8px 12px;\n",
              "         border-bottom: 1px solid var(--colab-border-color);\"><b>matplotlib.pyplot.show</b><br/>def show(*args, **kwargs) -&gt; None</pre><pre class=\"function-repr-contents function-repr-contents-collapsed\" style=\"\"><a class=\"filepath\" style=\"display:none\" href=\"#\">/usr/local/lib/python3.11/dist-packages/matplotlib/pyplot.py</a>Display all open figures.\n",
              "\n",
              "Parameters\n",
              "----------\n",
              "block : bool, optional\n",
              "    Whether to wait for all figures to be closed before returning.\n",
              "\n",
              "    If `True` block and run the GUI main loop until all figure windows\n",
              "    are closed.\n",
              "\n",
              "    If `False` ensure that all figure windows are displayed and return\n",
              "    immediately.  In this case, you are responsible for ensuring\n",
              "    that the event loop is running to have responsive figures.\n",
              "\n",
              "    Defaults to True in non-interactive mode and to False in interactive\n",
              "    mode (see `.pyplot.isinteractive`).\n",
              "\n",
              "See Also\n",
              "--------\n",
              "ion : Enable interactive mode, which shows / updates the figure after\n",
              "      every plotting command, so that calling ``show()`` is not necessary.\n",
              "ioff : Disable interactive mode.\n",
              "savefig : Save the figure to an image file instead of showing it on screen.\n",
              "\n",
              "Notes\n",
              "-----\n",
              "**Saving figures to file and showing a window at the same time**\n",
              "\n",
              "If you want an image file as well as a user interface window, use\n",
              "`.pyplot.savefig` before `.pyplot.show`. At the end of (a blocking)\n",
              "``show()`` the figure is closed and thus unregistered from pyplot. Calling\n",
              "`.pyplot.savefig` afterwards would save a new and thus empty figure. This\n",
              "limitation of command order does not apply if the show is non-blocking or\n",
              "if you keep a reference to the figure and use `.Figure.savefig`.\n",
              "\n",
              "**Auto-show in jupyter notebooks**\n",
              "\n",
              "The jupyter backends (activated via ``%matplotlib inline``,\n",
              "``%matplotlib notebook``, or ``%matplotlib widget``), call ``show()`` at\n",
              "the end of every cell by default. Thus, you usually don&#x27;t have to call it\n",
              "explicitly there.</pre>\n",
              "      <script>\n",
              "      if (google.colab.kernel.accessAllowed && google.colab.files && google.colab.files.view) {\n",
              "        for (const element of document.querySelectorAll('.filepath')) {\n",
              "          element.style.display = 'block'\n",
              "          element.onclick = (event) => {\n",
              "            event.preventDefault();\n",
              "            event.stopPropagation();\n",
              "            google.colab.files.view(element.textContent, 569);\n",
              "          };\n",
              "        }\n",
              "      }\n",
              "      for (const element of document.querySelectorAll('.function-repr-contents')) {\n",
              "        element.onclick = (event) => {\n",
              "          event.preventDefault();\n",
              "          event.stopPropagation();\n",
              "          element.classList.toggle('function-repr-contents-collapsed');\n",
              "        };\n",
              "      }\n",
              "      </script>\n",
              "      </div>"
            ]
          },
          "metadata": {},
          "execution_count": 55
        },
        {
          "output_type": "display_data",
          "data": {
            "text/plain": [
              "<Figure size 640x480 with 1 Axes>"
            ],
            "image/png": "[encoded data removed]"
          },
          "metadata": {}
        }
      ]
    },
    {
      "cell_type": "markdown",
      "source": [
        "**Create a Line Plot of Temperature Over Time**"
      ],
      "metadata": {
        "id": "DAv4eHwg_lim"
      }
    },
    {
      "cell_type": "code",
      "source": [
        "plt.figure(figsize = (10,6))\n",
        "\n",
        "plt.plot(df['timestamp_utc'], df['temp'], color = 'green', linewidth = 2)\n",
        "\n",
        "plt.xlabel('Date')\n",
        "\n",
        "plt.ylabel('Tempearute (°C)')\n",
        "\n",
        "plt.title('Temperature Over Time')\n",
        "\n",
        "plt.show()\n",
        "\n"
      ],
      "metadata": {
        "colab": {
          "base_uri": "https://localhost:8080/",
          "height": 564
        },
        "id": "PYKoh76r_nsv",
        "outputId": "b45aa6f7-a9c2-495d-9629-0a0d088b2ecc"
      },
      "execution_count": 57,
      "outputs": [
        {
          "output_type": "display_data",
          "data": {
            "text/plain": [
              "<Figure size 1000x600 with 1 Axes>"
            ],
            "image/png": "[encoded data removed]"
          },
          "metadata": {}
        }
      ]
    },
    {
      "cell_type": "markdown",
      "source": [
        "**Create a Bar Plot Showing Number of Days per Weather Condition**"
      ],
      "metadata": {
        "id": "rjdK95DmAgez"
      }
    },
    {
      "cell_type": "code",
      "source": [
        "weather_count = df['description(output)'].value_counts()\n",
        "\n",
        "plt.figure(figsize = (8,6))\n",
        "\n",
        "weather_count.plot(kind = 'bar', color = 'purple')\n",
        "\n",
        "plt.xlabel('Weather Condition')\n",
        "\n",
        "plt.ylabel('Number of Days')\n",
        "\n",
        "plt.title('No. of Days per Weather Condition')\n",
        "\n",
        "plt.show()\n",
        "\n"
      ],
      "metadata": {
        "colab": {
          "base_uri": "https://localhost:8080/",
          "height": 671
        },
        "id": "TdJqI8zwAjE9",
        "outputId": "48740961-4e72-4eb3-a22e-b9077e329578"
      },
      "execution_count": 59,
      "outputs": [
        {
          "output_type": "display_data",
          "data": {
            "text/plain": [
              "<Figure size 800x600 with 1 Axes>"
            ],
            "image/png": "[encoded data removed]"
          },
          "metadata": {}
        }
      ]
    },
    {
      "cell_type": "markdown",
      "source": [
        "**Plot a Boxplot for Wind Speed to Detect Outliers**"
      ],
      "metadata": {
        "id": "aDVFj2CzBQjr"
      }
    },
    {
      "cell_type": "code",
      "source": [
        "plt.figure(figsize = (8,6))\n",
        "\n",
        "sns.boxplot(x = df['wind_spd'], color = 'lightcoral')\n",
        "\n",
        "plt.xlabel('Wind Speed km/hr')\n",
        "\n",
        "plt.title('Boxplot of Wind Speed')\n",
        "\n",
        "plt.show()\n",
        "\n"
      ],
      "metadata": {
        "colab": {
          "base_uri": "https://localhost:8080/",
          "height": 564
        },
        "id": "PaA5Qi3_BaGB",
        "outputId": "b0d797e3-2602-4404-d9d7-e780264dcd0f"
      },
      "execution_count": 60,
      "outputs": [
        {
          "output_type": "display_data",
          "data": {
            "text/plain": [
              "<Figure size 800x600 with 1 Axes>"
            ],
            "image/png": "[encoded data removed]"
          },
          "metadata": {}
        }
      ]
    }
  ]
}